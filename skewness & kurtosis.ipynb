{
 "cells": [
  {
   "cell_type": "code",
   "execution_count": null,
   "metadata": {},
   "outputs": [],
   "source": [
    "import numpy as np"
   ]
  },
  {
   "cell_type": "code",
   "execution_count": null,
   "metadata": {},
   "outputs": [],
   "source": [
    "def decimal_str(x: float, decimals: int = 10) -> str:\n",
    "    return format(x, f\".{decimals}f\").lstrip().rstrip('0')"
   ]
  },
  {
   "cell_type": "code",
   "execution_count": null,
   "metadata": {},
   "outputs": [],
   "source": [
    "#Sample data creation\n",
    "Data = [i for i in range(100)]\n",
    "DataVector = np.array(Data, dtype = float)"
   ]
  },
  {
   "cell_type": "code",
   "execution_count": null,
   "metadata": {},
   "outputs": [],
   "source": [
    "mean = DataVector.mean()\n",
    "print (mean)"
   ]
  },
  {
   "cell_type": "code",
   "execution_count": null,
   "metadata": {},
   "outputs": [],
   "source": [
    "normalisedVector = [x - mean for x in DataVector]\n",
    "normalisedVector"
   ]
  },
  {
   "cell_type": "code",
   "execution_count": null,
   "metadata": {},
   "outputs": [],
   "source": [
    "numerator = (1 / 100 * np.sum(np.power(normalisedVector, 3))) \n",
    "denominator = (1 / 100 * np.sum(np.power(normalisedVector, 2))) ** (3/2)\n",
    "skewness = numerator / denominator\n",
    "print(decimal_str(skewness, 100))\n",
    "# skewness - location of sample values relative to the mean - \n",
    "# more to the left or more to the right"
   ]
  },
  {
   "cell_type": "code",
   "execution_count": null,
   "metadata": {},
   "outputs": [],
   "source": [
    "numerator = (1 / 100 * np.sum(np.power(normalisedVector, 4))) \n",
    "denominator = (1 / 100 * np.sum(np.power(normalisedVector, 2))) ** (2)\n",
    "kurtosis = numerator / denominator - 3\n",
    "print(decimal_str(kurtosis, 100))\n",
    "# kurtosis -> peakedness of a distribution\n",
    "# peakedness of a distribution and/or the size of the tails\n",
    "# of the distribution (“fat tails” are implied by a high kurtosis)"
   ]
  }
 ],
 "metadata": {
  "kernelspec": {
   "display_name": "Python 3",
   "language": "python",
   "name": "python3"
  },
  "language_info": {
   "codemirror_mode": {
    "name": "ipython",
    "version": 3
   },
   "file_extension": ".py",
   "mimetype": "text/x-python",
   "name": "python",
   "nbconvert_exporter": "python",
   "pygments_lexer": "ipython3",
   "version": "3.7.3"
  }
 },
 "nbformat": 4,
 "nbformat_minor": 2
}
