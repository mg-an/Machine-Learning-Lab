{
 "cells": [
  {
   "cell_type": "code",
   "execution_count": null,
   "metadata": {},
   "outputs": [],
   "source": [
    "#Modules\n",
    "from keras.models import Sequential\n",
    "from keras.layers import Dense\n",
    "from keras.layers import LSTM\n",
    "from sklearn.model_selection import train_test_split\n",
    "import numpy as np\n",
    "import matplotlib.pyplot as plt"
   ]
  },
  {
   "cell_type": "code",
   "execution_count": null,
   "metadata": {},
   "outputs": [],
   "source": [
    "# Square brackets create variables of data type list,\n",
    "# round brackets create variables of data type generator,\n",
    "\n",
    "# Data creation, since we do not have any data\n",
    "Data = [[[(i + j)/100] for i in range(5)] for j in range(100)] #independent\n",
    "Target = [((i + 5)/100) for i in range(100)] #dependent"
   ]
  },
  {
   "cell_type": "code",
   "execution_count": null,
   "metadata": {},
   "outputs": [],
   "source": [
    "Data_Vector, Target_Vector = np.array(Data, dtype = float), np.array(Target, dtype = float)"
   ]
  },
  {
   "cell_type": "code",
   "execution_count": null,
   "metadata": {},
   "outputs": [],
   "source": [
    "x_train, x_test, y_train, y_test = train_test_split(Data_Vector, Target_Vector, test_size = 0.2, random_state = 4)\n",
    "# random state is the seed for random number generator"
   ]
  },
  {
   "cell_type": "code",
   "execution_count": null,
   "metadata": {},
   "outputs": [],
   "source": [
    "# RNN model\n",
    "model = Sequential()\n",
    "model.add(LSTM((1), batch_input_shape = (None, 5, 1), return_sequences = True))\n",
    "# for LSTM layers hyperparameters (hparam) are as follows:\n",
    "# hparam 1: Output size, here it is 1\n",
    "# hparam 2: Shape of i/p data has 3 factors : No of i/p, length of i/p seq, length of each vector\n",
    "# hparam 3: return_sequences = True gives o/p after every node, False gives it after the last node\n",
    "# params : factors changed by the model at every epoch, determined using  the training dataset\n",
    "# hyperparams : factors which we hardcode / hard set, which do not change, they must be tuned in order to obtain a model with optimal performance\n",
    "model.add(LSTM((1), return_sequences = False))"
   ]
  },
  {
   "cell_type": "code",
   "execution_count": null,
   "metadata": {},
   "outputs": [],
   "source": [
    "model.compile(loss = 'mean_absolute_error', optimizer = 'adam', metrics = ['accuracy'])"
   ]
  },
  {
   "cell_type": "code",
   "execution_count": null,
   "metadata": {},
   "outputs": [],
   "source": [
    "model.summary()"
   ]
  },
  {
   "cell_type": "code",
   "execution_count": null,
   "metadata": {},
   "outputs": [],
   "source": [
    "history = model.fit(x_train, y_train, epochs = 1000, validation_data = (x_test, y_test))"
   ]
  },
  {
   "cell_type": "code",
   "execution_count": null,
   "metadata": {},
   "outputs": [],
   "source": [
    "results = model.predict(x_test)"
   ]
  },
  {
   "cell_type": "code",
   "execution_count": null,
   "metadata": {},
   "outputs": [],
   "source": [
    "plt.scatter(range(20), results, c = 'r') #experimental\n",
    "plt.scatter(range(20), y_test, c = 'g') #empirical\n",
    "plt.show()\n",
    "# un normalized data led to underfitting due to high gradients, to fit appropriately I have normalized the data by dividing by 100"
   ]
  },
  {
   "cell_type": "code",
   "execution_count": null,
   "metadata": {},
   "outputs": [],
   "source": [
    "plt.plot(history.history['loss'])\n",
    "plt.show()"
   ]
  }
 ],
 "metadata": {
  "kernelspec": {
   "display_name": "Python 3",
   "language": "python",
   "name": "python3"
  },
  "language_info": {
   "codemirror_mode": {
    "name": "ipython",
    "version": 3
   },
   "file_extension": ".py",
   "mimetype": "text/x-python",
   "name": "python",
   "nbconvert_exporter": "python",
   "pygments_lexer": "ipython3",
   "version": "3.7.3"
  }
 },
 "nbformat": 4,
 "nbformat_minor": 2
}
